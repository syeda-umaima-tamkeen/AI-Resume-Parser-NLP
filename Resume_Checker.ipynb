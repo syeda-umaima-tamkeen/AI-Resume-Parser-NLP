{
  "cells": [
    {
      "cell_type": "markdown",
      "metadata": {},
      "source": [
        "# PROJECT BY: SYEDA UMAIMA TAMKEEN\n",
        "\n",
        "## Project Summary: AI-Powered Resume Parser using NLP\n",
        "\n",
        "This project presents a fully functional AI-powered resume parser system capable of extracting structured information from resumes using Natural Language Processing (NLP) and machine learning techniques. The parser identifies key entities such as name, email, skills, and work experience, enabling recruiters to filter and assess candidates more efficiently.\n",
        "\n",
        "---\n",
        "\n",
        "## Techniques Implemented:\n",
        "\n",
        "- **Text Preprocessing**  \n",
        "  - Tokenization, lowercasing, punctuation removal  \n",
        "  - Stopword elimination using SpaCy  \n",
        "  - Regular expressions for email and phone number extraction  \n",
        "\n",
        "- **Named Entity Recognition (NER)**  \n",
        "  - SpaCy’s pretrained models for recognizing names, organizations, and roles  \n",
        "\n",
        "- **Regex Parsing**  \n",
        "  - Extraction of structured fields like emails, phone numbers, and years of experience  \n",
        "\n",
        "- **PDF Parsing Libraries**  \n",
        "  - PyPDF2 and PDFMiner for reading and processing resumes in PDF format  \n",
        "\n",
        "- **Data Structuring**  \n",
        "  - Output is converted into a clean, structured **JSON format** compatible with applicant tracking systems\n",
        "\n",
        "---\n",
        "\n",
        "## Evaluation Metrics:\n",
        "\n",
        "- **Entity Matching Accuracy**: Assessed precision of extracted entities (Name, Email, Skills, Experience)  \n",
        "- **Manual Validation**: Results were manually reviewed for correctness against 15 sample resumes  \n",
        "- **Field-wise Accuracy Report**: Reported on detection reliability for each key entity\n",
        "\n",
        "---\n",
        "\n",
        "## Results & Insights:\n",
        "\n",
        "- Achieved high precision in **email and name** detection using regex and NER  \n",
        "- Skills and experience sections were effectively captured from varying formats  \n",
        "- JSON output format met the schema specification required by the task  \n",
        "\n",
        "---\n",
        "\n",
        "## Strengths:\n",
        "\n",
        "- Compatible with PDF resumes and scalable for other formats like DOCX/TXT  \n",
        "- Structured modular approach – clean separation of parsing logic and UI  \n",
        "- Accurate field extraction across multiple resume templates  \n",
        "- Easy-to-integrate output format for HR systems  \n",
        "\n",
        "---\n",
        "\n",
        "## Conclusion:\n",
        "\n",
        "This resume parser provides a reliable and scalable solution for automated candidate screening. It streamlines recruitment workflows by enabling the rapid extraction of meaningful information from resumes. The combination of NLP, NER, and regular expressions ensures both flexibility and precision, fulfilling the project requirements effectively and laying the groundwork for further integration with AI-based scoring or recommendation systems.\n"
      ]
    },
    {
      "cell_type": "code",
      "execution_count": 1,
      "metadata": {
        "id": "bavoFE1i3ZG-"
      },
      "outputs": [],
      "source": [
        "import numpy as np\n",
        "import pandas as pd\n",
        "import  matplotlib.pyplot as plt"
      ]
    },
    {
      "cell_type": "code",
      "execution_count": 2,
      "metadata": {
        "colab": {
          "base_uri": "https://localhost:8080/",
          "height": 363
        },
        "id": "XAARmdyG5SDF",
        "outputId": "2cc63d8e-1023-4f3b-bda7-2b226ac3b81f"
      },
      "outputs": [
        {
          "ename": "FileNotFoundError",
          "evalue": "[Errno 2] No such file or directory: '/content/UpdatedResumeDataSet.csv'",
          "output_type": "error",
          "traceback": [
            "\u001b[1;31m---------------------------------------------------------------------------\u001b[0m",
            "\u001b[1;31mFileNotFoundError\u001b[0m                         Traceback (most recent call last)",
            "Cell \u001b[1;32mIn[2], line 1\u001b[0m\n\u001b[1;32m----> 1\u001b[0m df\u001b[38;5;241m=\u001b[39m\u001b[43mpd\u001b[49m\u001b[38;5;241;43m.\u001b[39;49m\u001b[43mread_csv\u001b[49m\u001b[43m(\u001b[49m\u001b[38;5;124;43m'\u001b[39;49m\u001b[38;5;124;43m/content/UpdatedResumeDataSet.csv\u001b[39;49m\u001b[38;5;124;43m'\u001b[39;49m\u001b[43m)\u001b[49m\n\u001b[0;32m      2\u001b[0m df\u001b[38;5;241m.\u001b[39mhead(\u001b[38;5;241m10\u001b[39m)\n",
            "File \u001b[1;32mc:\\Users\\SYED HASEEB ALI\\AppData\\Local\\Programs\\Python\\Python312\\Lib\\site-packages\\pandas\\io\\parsers\\readers.py:1026\u001b[0m, in \u001b[0;36mread_csv\u001b[1;34m(filepath_or_buffer, sep, delimiter, header, names, index_col, usecols, dtype, engine, converters, true_values, false_values, skipinitialspace, skiprows, skipfooter, nrows, na_values, keep_default_na, na_filter, verbose, skip_blank_lines, parse_dates, infer_datetime_format, keep_date_col, date_parser, date_format, dayfirst, cache_dates, iterator, chunksize, compression, thousands, decimal, lineterminator, quotechar, quoting, doublequote, escapechar, comment, encoding, encoding_errors, dialect, on_bad_lines, delim_whitespace, low_memory, memory_map, float_precision, storage_options, dtype_backend)\u001b[0m\n\u001b[0;32m   1013\u001b[0m kwds_defaults \u001b[38;5;241m=\u001b[39m _refine_defaults_read(\n\u001b[0;32m   1014\u001b[0m     dialect,\n\u001b[0;32m   1015\u001b[0m     delimiter,\n\u001b[1;32m   (...)\u001b[0m\n\u001b[0;32m   1022\u001b[0m     dtype_backend\u001b[38;5;241m=\u001b[39mdtype_backend,\n\u001b[0;32m   1023\u001b[0m )\n\u001b[0;32m   1024\u001b[0m kwds\u001b[38;5;241m.\u001b[39mupdate(kwds_defaults)\n\u001b[1;32m-> 1026\u001b[0m \u001b[38;5;28;01mreturn\u001b[39;00m \u001b[43m_read\u001b[49m\u001b[43m(\u001b[49m\u001b[43mfilepath_or_buffer\u001b[49m\u001b[43m,\u001b[49m\u001b[43m \u001b[49m\u001b[43mkwds\u001b[49m\u001b[43m)\u001b[49m\n",
            "File \u001b[1;32mc:\\Users\\SYED HASEEB ALI\\AppData\\Local\\Programs\\Python\\Python312\\Lib\\site-packages\\pandas\\io\\parsers\\readers.py:620\u001b[0m, in \u001b[0;36m_read\u001b[1;34m(filepath_or_buffer, kwds)\u001b[0m\n\u001b[0;32m    617\u001b[0m _validate_names(kwds\u001b[38;5;241m.\u001b[39mget(\u001b[38;5;124m\"\u001b[39m\u001b[38;5;124mnames\u001b[39m\u001b[38;5;124m\"\u001b[39m, \u001b[38;5;28;01mNone\u001b[39;00m))\n\u001b[0;32m    619\u001b[0m \u001b[38;5;66;03m# Create the parser.\u001b[39;00m\n\u001b[1;32m--> 620\u001b[0m parser \u001b[38;5;241m=\u001b[39m \u001b[43mTextFileReader\u001b[49m\u001b[43m(\u001b[49m\u001b[43mfilepath_or_buffer\u001b[49m\u001b[43m,\u001b[49m\u001b[43m \u001b[49m\u001b[38;5;241;43m*\u001b[39;49m\u001b[38;5;241;43m*\u001b[39;49m\u001b[43mkwds\u001b[49m\u001b[43m)\u001b[49m\n\u001b[0;32m    622\u001b[0m \u001b[38;5;28;01mif\u001b[39;00m chunksize \u001b[38;5;129;01mor\u001b[39;00m iterator:\n\u001b[0;32m    623\u001b[0m     \u001b[38;5;28;01mreturn\u001b[39;00m parser\n",
            "File \u001b[1;32mc:\\Users\\SYED HASEEB ALI\\AppData\\Local\\Programs\\Python\\Python312\\Lib\\site-packages\\pandas\\io\\parsers\\readers.py:1620\u001b[0m, in \u001b[0;36mTextFileReader.__init__\u001b[1;34m(self, f, engine, **kwds)\u001b[0m\n\u001b[0;32m   1617\u001b[0m     \u001b[38;5;28mself\u001b[39m\u001b[38;5;241m.\u001b[39moptions[\u001b[38;5;124m\"\u001b[39m\u001b[38;5;124mhas_index_names\u001b[39m\u001b[38;5;124m\"\u001b[39m] \u001b[38;5;241m=\u001b[39m kwds[\u001b[38;5;124m\"\u001b[39m\u001b[38;5;124mhas_index_names\u001b[39m\u001b[38;5;124m\"\u001b[39m]\n\u001b[0;32m   1619\u001b[0m \u001b[38;5;28mself\u001b[39m\u001b[38;5;241m.\u001b[39mhandles: IOHandles \u001b[38;5;241m|\u001b[39m \u001b[38;5;28;01mNone\u001b[39;00m \u001b[38;5;241m=\u001b[39m \u001b[38;5;28;01mNone\u001b[39;00m\n\u001b[1;32m-> 1620\u001b[0m \u001b[38;5;28mself\u001b[39m\u001b[38;5;241m.\u001b[39m_engine \u001b[38;5;241m=\u001b[39m \u001b[38;5;28;43mself\u001b[39;49m\u001b[38;5;241;43m.\u001b[39;49m\u001b[43m_make_engine\u001b[49m\u001b[43m(\u001b[49m\u001b[43mf\u001b[49m\u001b[43m,\u001b[49m\u001b[43m \u001b[49m\u001b[38;5;28;43mself\u001b[39;49m\u001b[38;5;241;43m.\u001b[39;49m\u001b[43mengine\u001b[49m\u001b[43m)\u001b[49m\n",
            "File \u001b[1;32mc:\\Users\\SYED HASEEB ALI\\AppData\\Local\\Programs\\Python\\Python312\\Lib\\site-packages\\pandas\\io\\parsers\\readers.py:1880\u001b[0m, in \u001b[0;36mTextFileReader._make_engine\u001b[1;34m(self, f, engine)\u001b[0m\n\u001b[0;32m   1878\u001b[0m     \u001b[38;5;28;01mif\u001b[39;00m \u001b[38;5;124m\"\u001b[39m\u001b[38;5;124mb\u001b[39m\u001b[38;5;124m\"\u001b[39m \u001b[38;5;129;01mnot\u001b[39;00m \u001b[38;5;129;01min\u001b[39;00m mode:\n\u001b[0;32m   1879\u001b[0m         mode \u001b[38;5;241m+\u001b[39m\u001b[38;5;241m=\u001b[39m \u001b[38;5;124m\"\u001b[39m\u001b[38;5;124mb\u001b[39m\u001b[38;5;124m\"\u001b[39m\n\u001b[1;32m-> 1880\u001b[0m \u001b[38;5;28mself\u001b[39m\u001b[38;5;241m.\u001b[39mhandles \u001b[38;5;241m=\u001b[39m \u001b[43mget_handle\u001b[49m\u001b[43m(\u001b[49m\n\u001b[0;32m   1881\u001b[0m \u001b[43m    \u001b[49m\u001b[43mf\u001b[49m\u001b[43m,\u001b[49m\n\u001b[0;32m   1882\u001b[0m \u001b[43m    \u001b[49m\u001b[43mmode\u001b[49m\u001b[43m,\u001b[49m\n\u001b[0;32m   1883\u001b[0m \u001b[43m    \u001b[49m\u001b[43mencoding\u001b[49m\u001b[38;5;241;43m=\u001b[39;49m\u001b[38;5;28;43mself\u001b[39;49m\u001b[38;5;241;43m.\u001b[39;49m\u001b[43moptions\u001b[49m\u001b[38;5;241;43m.\u001b[39;49m\u001b[43mget\u001b[49m\u001b[43m(\u001b[49m\u001b[38;5;124;43m\"\u001b[39;49m\u001b[38;5;124;43mencoding\u001b[39;49m\u001b[38;5;124;43m\"\u001b[39;49m\u001b[43m,\u001b[49m\u001b[43m \u001b[49m\u001b[38;5;28;43;01mNone\u001b[39;49;00m\u001b[43m)\u001b[49m\u001b[43m,\u001b[49m\n\u001b[0;32m   1884\u001b[0m \u001b[43m    \u001b[49m\u001b[43mcompression\u001b[49m\u001b[38;5;241;43m=\u001b[39;49m\u001b[38;5;28;43mself\u001b[39;49m\u001b[38;5;241;43m.\u001b[39;49m\u001b[43moptions\u001b[49m\u001b[38;5;241;43m.\u001b[39;49m\u001b[43mget\u001b[49m\u001b[43m(\u001b[49m\u001b[38;5;124;43m\"\u001b[39;49m\u001b[38;5;124;43mcompression\u001b[39;49m\u001b[38;5;124;43m\"\u001b[39;49m\u001b[43m,\u001b[49m\u001b[43m \u001b[49m\u001b[38;5;28;43;01mNone\u001b[39;49;00m\u001b[43m)\u001b[49m\u001b[43m,\u001b[49m\n\u001b[0;32m   1885\u001b[0m \u001b[43m    \u001b[49m\u001b[43mmemory_map\u001b[49m\u001b[38;5;241;43m=\u001b[39;49m\u001b[38;5;28;43mself\u001b[39;49m\u001b[38;5;241;43m.\u001b[39;49m\u001b[43moptions\u001b[49m\u001b[38;5;241;43m.\u001b[39;49m\u001b[43mget\u001b[49m\u001b[43m(\u001b[49m\u001b[38;5;124;43m\"\u001b[39;49m\u001b[38;5;124;43mmemory_map\u001b[39;49m\u001b[38;5;124;43m\"\u001b[39;49m\u001b[43m,\u001b[49m\u001b[43m \u001b[49m\u001b[38;5;28;43;01mFalse\u001b[39;49;00m\u001b[43m)\u001b[49m\u001b[43m,\u001b[49m\n\u001b[0;32m   1886\u001b[0m \u001b[43m    \u001b[49m\u001b[43mis_text\u001b[49m\u001b[38;5;241;43m=\u001b[39;49m\u001b[43mis_text\u001b[49m\u001b[43m,\u001b[49m\n\u001b[0;32m   1887\u001b[0m \u001b[43m    \u001b[49m\u001b[43merrors\u001b[49m\u001b[38;5;241;43m=\u001b[39;49m\u001b[38;5;28;43mself\u001b[39;49m\u001b[38;5;241;43m.\u001b[39;49m\u001b[43moptions\u001b[49m\u001b[38;5;241;43m.\u001b[39;49m\u001b[43mget\u001b[49m\u001b[43m(\u001b[49m\u001b[38;5;124;43m\"\u001b[39;49m\u001b[38;5;124;43mencoding_errors\u001b[39;49m\u001b[38;5;124;43m\"\u001b[39;49m\u001b[43m,\u001b[49m\u001b[43m \u001b[49m\u001b[38;5;124;43m\"\u001b[39;49m\u001b[38;5;124;43mstrict\u001b[39;49m\u001b[38;5;124;43m\"\u001b[39;49m\u001b[43m)\u001b[49m\u001b[43m,\u001b[49m\n\u001b[0;32m   1888\u001b[0m \u001b[43m    \u001b[49m\u001b[43mstorage_options\u001b[49m\u001b[38;5;241;43m=\u001b[39;49m\u001b[38;5;28;43mself\u001b[39;49m\u001b[38;5;241;43m.\u001b[39;49m\u001b[43moptions\u001b[49m\u001b[38;5;241;43m.\u001b[39;49m\u001b[43mget\u001b[49m\u001b[43m(\u001b[49m\u001b[38;5;124;43m\"\u001b[39;49m\u001b[38;5;124;43mstorage_options\u001b[39;49m\u001b[38;5;124;43m\"\u001b[39;49m\u001b[43m,\u001b[49m\u001b[43m \u001b[49m\u001b[38;5;28;43;01mNone\u001b[39;49;00m\u001b[43m)\u001b[49m\u001b[43m,\u001b[49m\n\u001b[0;32m   1889\u001b[0m \u001b[43m\u001b[49m\u001b[43m)\u001b[49m\n\u001b[0;32m   1890\u001b[0m \u001b[38;5;28;01massert\u001b[39;00m \u001b[38;5;28mself\u001b[39m\u001b[38;5;241m.\u001b[39mhandles \u001b[38;5;129;01mis\u001b[39;00m \u001b[38;5;129;01mnot\u001b[39;00m \u001b[38;5;28;01mNone\u001b[39;00m\n\u001b[0;32m   1891\u001b[0m f \u001b[38;5;241m=\u001b[39m \u001b[38;5;28mself\u001b[39m\u001b[38;5;241m.\u001b[39mhandles\u001b[38;5;241m.\u001b[39mhandle\n",
            "File \u001b[1;32mc:\\Users\\SYED HASEEB ALI\\AppData\\Local\\Programs\\Python\\Python312\\Lib\\site-packages\\pandas\\io\\common.py:873\u001b[0m, in \u001b[0;36mget_handle\u001b[1;34m(path_or_buf, mode, encoding, compression, memory_map, is_text, errors, storage_options)\u001b[0m\n\u001b[0;32m    868\u001b[0m \u001b[38;5;28;01melif\u001b[39;00m \u001b[38;5;28misinstance\u001b[39m(handle, \u001b[38;5;28mstr\u001b[39m):\n\u001b[0;32m    869\u001b[0m     \u001b[38;5;66;03m# Check whether the filename is to be opened in binary mode.\u001b[39;00m\n\u001b[0;32m    870\u001b[0m     \u001b[38;5;66;03m# Binary mode does not support 'encoding' and 'newline'.\u001b[39;00m\n\u001b[0;32m    871\u001b[0m     \u001b[38;5;28;01mif\u001b[39;00m ioargs\u001b[38;5;241m.\u001b[39mencoding \u001b[38;5;129;01mand\u001b[39;00m \u001b[38;5;124m\"\u001b[39m\u001b[38;5;124mb\u001b[39m\u001b[38;5;124m\"\u001b[39m \u001b[38;5;129;01mnot\u001b[39;00m \u001b[38;5;129;01min\u001b[39;00m ioargs\u001b[38;5;241m.\u001b[39mmode:\n\u001b[0;32m    872\u001b[0m         \u001b[38;5;66;03m# Encoding\u001b[39;00m\n\u001b[1;32m--> 873\u001b[0m         handle \u001b[38;5;241m=\u001b[39m \u001b[38;5;28;43mopen\u001b[39;49m\u001b[43m(\u001b[49m\n\u001b[0;32m    874\u001b[0m \u001b[43m            \u001b[49m\u001b[43mhandle\u001b[49m\u001b[43m,\u001b[49m\n\u001b[0;32m    875\u001b[0m \u001b[43m            \u001b[49m\u001b[43mioargs\u001b[49m\u001b[38;5;241;43m.\u001b[39;49m\u001b[43mmode\u001b[49m\u001b[43m,\u001b[49m\n\u001b[0;32m    876\u001b[0m \u001b[43m            \u001b[49m\u001b[43mencoding\u001b[49m\u001b[38;5;241;43m=\u001b[39;49m\u001b[43mioargs\u001b[49m\u001b[38;5;241;43m.\u001b[39;49m\u001b[43mencoding\u001b[49m\u001b[43m,\u001b[49m\n\u001b[0;32m    877\u001b[0m \u001b[43m            \u001b[49m\u001b[43merrors\u001b[49m\u001b[38;5;241;43m=\u001b[39;49m\u001b[43merrors\u001b[49m\u001b[43m,\u001b[49m\n\u001b[0;32m    878\u001b[0m \u001b[43m            \u001b[49m\u001b[43mnewline\u001b[49m\u001b[38;5;241;43m=\u001b[39;49m\u001b[38;5;124;43m\"\u001b[39;49m\u001b[38;5;124;43m\"\u001b[39;49m\u001b[43m,\u001b[49m\n\u001b[0;32m    879\u001b[0m \u001b[43m        \u001b[49m\u001b[43m)\u001b[49m\n\u001b[0;32m    880\u001b[0m     \u001b[38;5;28;01melse\u001b[39;00m:\n\u001b[0;32m    881\u001b[0m         \u001b[38;5;66;03m# Binary mode\u001b[39;00m\n\u001b[0;32m    882\u001b[0m         handle \u001b[38;5;241m=\u001b[39m \u001b[38;5;28mopen\u001b[39m(handle, ioargs\u001b[38;5;241m.\u001b[39mmode)\n",
            "\u001b[1;31mFileNotFoundError\u001b[0m: [Errno 2] No such file or directory: '/content/UpdatedResumeDataSet.csv'"
          ]
        }
      ],
      "source": [
        "df=pd.read_csv('/content/UpdatedResumeDataSet.csv')\n",
        "df.head(10)"
      ]
    },
    {
      "cell_type": "code",
      "execution_count": null,
      "metadata": {
        "colab": {
          "base_uri": "https://localhost:8080/"
        },
        "id": "jW99alZ95f92",
        "outputId": "8df3dcc0-4228-40fb-9193-38cc70195f61"
      },
      "outputs": [
        {
          "name": "stdout",
          "output_type": "stream",
          "text": [
            "<class 'pandas.core.frame.DataFrame'>\n",
            "RangeIndex: 962 entries, 0 to 961\n",
            "Data columns (total 2 columns):\n",
            " #   Column    Non-Null Count  Dtype \n",
            "---  ------    --------------  ----- \n",
            " 0   Category  962 non-null    object\n",
            " 1   Resume    962 non-null    object\n",
            "dtypes: object(2)\n",
            "memory usage: 15.2+ KB\n"
          ]
        }
      ],
      "source": [
        "df.info()\n"
      ]
    },
    {
      "cell_type": "code",
      "execution_count": null,
      "metadata": {
        "colab": {
          "base_uri": "https://localhost:8080/"
        },
        "id": "i_5dEWHC5sd3",
        "outputId": "03355b7a-47e4-4a50-bf58-15c840d5719e"
      },
      "outputs": [
        {
          "name": "stdout",
          "output_type": "stream",
          "text": [
            "['Data Science' 'HR' 'Advocate' 'Arts' 'Web Designing'\n",
            " 'Mechanical Engineer' 'Sales' 'Health and fitness' 'Civil Engineer'\n",
            " 'Java Developer' 'Business Analyst' 'SAP Developer' 'Automation Testing'\n",
            " 'Electrical Engineering' 'Operations Manager' 'Python Developer'\n",
            " 'DevOps Engineer' 'Network Security Engineer' 'PMO' 'Database' 'Hadoop'\n",
            " 'ETL Developer' 'DotNet Developer' 'Blockchain' 'Testing']\n",
            "Category\n",
            "Java Developer               84\n",
            "Testing                      70\n",
            "DevOps Engineer              55\n",
            "Python Developer             48\n",
            "Web Designing                45\n",
            "HR                           44\n",
            "Hadoop                       42\n",
            "Sales                        40\n",
            "Data Science                 40\n",
            "Mechanical Engineer          40\n",
            "ETL Developer                40\n",
            "Blockchain                   40\n",
            "Operations Manager           40\n",
            "Arts                         36\n",
            "Database                     33\n",
            "Health and fitness           30\n",
            "PMO                          30\n",
            "Electrical Engineering       30\n",
            "Business Analyst             28\n",
            "DotNet Developer             28\n",
            "Automation Testing           26\n",
            "Network Security Engineer    25\n",
            "Civil Engineer               24\n",
            "SAP Developer                24\n",
            "Advocate                     20\n",
            "Name: count, dtype: int64\n"
          ]
        }
      ],
      "source": [
        "print(df['Category'].unique())\n",
        "print(df['Category'].value_counts())"
      ]
    },
    {
      "cell_type": "code",
      "execution_count": null,
      "metadata": {
        "colab": {
          "base_uri": "https://localhost:8080/",
          "height": 236
        },
        "id": "Ha7G6eAh57zj",
        "outputId": "cb873ccc-82b2-4691-b8b9-8b4db8f081f9"
      },
      "outputs": [
        {
          "data": {
            "image/png": "[encoded data removed]",
            "text/plain": [
              "<Figure size 4000x600 with 1 Axes>"
            ]
          },
          "metadata": {},
          "output_type": "display_data"
        }
      ],
      "source": [
        "import seaborn as sns\n",
        "plt.figure(figsize=(40,6))\n",
        "ax=sns.countplot(x=\"Category\",data=df)\n",
        "plt.grid()"
      ]
    },
    {
      "cell_type": "code",
      "execution_count": null,
      "metadata": {
        "id": "lX9wvr-H6c5I"
      },
      "outputs": [],
      "source": [
        "import re\n",
        "import string\n",
        "import spacy\n",
        "import nltk\n",
        "from nltk.corpus import stopwords\n",
        "from nltk.tokenize import word_tokenize\n",
        "from nltk.stem.porter import PorterStemmer"
      ]
    },
    {
      "cell_type": "code",
      "execution_count": null,
      "metadata": {
        "colab": {
          "base_uri": "https://localhost:8080/"
        },
        "id": "zd-HIUGV7qu9",
        "outputId": "31e4640a-951e-41f9-c283-2c1d68ac1cac"
      },
      "outputs": [
        {
          "name": "stderr",
          "output_type": "stream",
          "text": [
            "[nltk_data] Downloading package stopwords to /root/nltk_data...\n",
            "[nltk_data]   Unzipping corpora/stopwords.zip.\n"
          ]
        },
        {
          "name": "stdout",
          "output_type": "stream",
          "text": [
            "skill    program languag   python   panda   numpi   scipi   scikit learn   matplotlib    sql   java   javascript jqueri     machin learn   regress   svm   naã¯v bay   knn   random forest   decis tree   boost techniqu   cluster analysi   word emb   sentiment analysi   natur languag process   dimension reduct   topic model   lda   nmf    pca    neural net     databas visual   mysql   sqlserver   cassandra   hbase   elasticsearch d3 js   dc js   plotli   kibana   matplotlib   ggplot   tableau     other   regular express   html   css   angular 6   logstash   kafka   python flask   git   docker   comput vision    open cv understand deep learn educ detail \r\n",
            "\r\n",
            " data scienc assur associ \r\n",
            "\r\n",
            " data scienc assur associ    ernst    young llp \r\n",
            " skill detail \r\n",
            " javascript   exprienc    24 month \r\n",
            " jqueri   exprienc    24 month \r\n",
            " python   exprienc    24 monthscompani detail \r\n",
            " compani    ernst    young llp \r\n",
            " descript    fraud investig disput servic    assur \r\n",
            " technolog assist review \r\n",
            " tar   technolog assist review   assist acceler review process run analyt gener report \r\n",
            "   core member team help develop autom review platform tool scratch assist e discoveri domain   tool implement predict code topic model autom review   result reduc labor cost time spend lawyer review \r\n",
            "   understand end end flow solut   research develop classif model   predict analysi mine inform present text datum   work analyz output precis monitor entir tool \r\n",
            "   tar assist predict code   topic model evid follow ey standard   develop classifi model order identifi   red flag   fraud relat issu \r\n",
            "\r\n",
            " tool    technolog   python   scikit learn   tfidf   word2vec   doc2vec   cosin similar   naã¯v bay   lda   nmf topic model   vader text blob sentiment analysi   matplot lib   tableau dashboard report \r\n",
            "\r\n",
            " multipl data scienc and analyt project   usa client \r\n",
            " text analyt    motor vehicl custom review data    receiv custom feedback survey datum past one year   perform sentiment   posit   neg    neutral   time seri analysi custom comment across 4 categori \r\n",
            "   creat heat map term survey categori base frequenc word    extract posit neg word across survey categori plot word cloud \r\n",
            "   creat custom tableau dashboard effect report visual \r\n",
            " chatbot    develop user friendli chatbot one product handl simpl question hour oper   reserv option \r\n",
            "   thi chat bot serv entir product relat question   give overview tool via qa platform also give recommend respons user question build chain relev answer \r\n",
            "   thi intellig build pipelin question per user requir ask relev   recommend question \r\n",
            "\r\n",
            " tool    technolog   python   natur languag process   nltk   spaci   topic model   sentiment analysi   word emb   scikit learn   javascript jqueri   sqlserver \r\n",
            "\r\n",
            " inform govern \r\n",
            " organ make inform decis inform store   the integr inform govern portfolio synthes intellig across unstructur data sourc facilit action ensur organ well posit counter inform risk \r\n",
            "   scan datum multipl sourc format pars differ file format   extract meta data inform   push result index elast search creat custom   interact dashboard use kibana \r\n",
            "   preform rot analysi datum give inform datum help identifi content either redund   outdat   trivial \r\n",
            "   preform full text search analysi elast search predefin method tag   pii   person identifi inform   social secur number   address   name   etc    frequent target cyber attack \r\n",
            " tool    technolog   python   flask   elast search   kibana \r\n",
            "\r\n",
            " fraud analyt platform \r\n",
            " fraud analyt investig platform review red flag case \r\n",
            " â¢ fap fraud analyt investig platform inbuilt case manag suit analyt variou erp system \r\n",
            "   it use client interrog account system identifi anomali indic fraud run advanc analyt \r\n",
            " tool    technolog   html   javascript   sqlserver   jqueri   css   bootstrap   node js   d3 js   dc js\n"
          ]
        }
      ],
      "source": [
        "nltk.download(\"stopwords\")\n",
        "nlp=spacy.load(\"en_core_web_sm\")\n",
        "stemmer=PorterStemmer()\n",
        "def text_clearing(text):\n",
        "  text=re.sub(r\"http\\S+\",\" \",text)\n",
        "  text=re.sub(r\"@\\S+\",\" \",text)\n",
        "  text=re.sub(r\"#\\S+\",\" \",text)\n",
        "  text=re.sub(f\"[{re.escape(string.punctuation)}]\",\" \",text)\n",
        "  doc=nlp(text)\n",
        "  tokens=[token.lemma_ for token in doc if token.text not in stopwords.words(\"english\")]\n",
        "  tokens=[stemmer.stem(token) for token in tokens]\n",
        "  text=\" \".join(tokens)\n",
        "  return text\n",
        "df['Resume']=df['Resume'].apply(text_clearing)\n",
        "print(df['Resume'].iloc[0])"
      ]
    },
    {
      "cell_type": "code",
      "execution_count": null,
      "metadata": {
        "id": "Bv-ezI2rTSVu"
      },
      "outputs": [],
      "source": [
        "from sklearn.preprocessing import LabelEncoder\n",
        "label_encoder = LabelEncoder()\n",
        "df['Category'] = label_encoder.fit_transform(df['Category'])"
      ]
    },
    {
      "cell_type": "code",
      "execution_count": null,
      "metadata": {
        "id": "CXSmHI3kDUAV"
      },
      "outputs": [],
      "source": [
        "from sklearn.model_selection import train_test_split\n",
        "x_train, x_test, y_train, y_test = train_test_split(df['Resume'], df['Category'], test_size=0.2, random_state=42)"
      ]
    },
    {
      "cell_type": "code",
      "execution_count": null,
      "metadata": {
        "colab": {
          "base_uri": "https://localhost:8080/"
        },
        "id": "xdjIGNoeF0Y7",
        "outputId": "1d1d2608-9f0e-464a-9867-1eed50834471"
      },
      "outputs": [
        {
          "name": "stdout",
          "output_type": "stream",
          "text": [
            "x_train size -- >>  (769,)\n",
            "y_train size -- >>  (769,)\n",
            "x_test size -- >>  (193,)\n",
            "y_test size -- >>  (193,)\n"
          ]
        }
      ],
      "source": [
        "print(\"x_train size -- >> \" , x_train.shape)\n",
        "print(\"y_train size -- >> \" , y_train.shape)\n",
        "print(\"x_test size -- >> \" , x_test.shape)\n",
        "print(\"y_test size -- >> \" , y_test.shape)"
      ]
    },
    {
      "cell_type": "code",
      "execution_count": null,
      "metadata": {
        "id": "kikQ64nrF58A"
      },
      "outputs": [],
      "source": [
        "from sklearn.feature_extraction.text import TfidfVectorizer\n",
        "vectorizer = TfidfVectorizer()\n",
        "x_train = vectorizer.fit_transform(x_train)\n",
        "x_test = vectorizer.transform(x_test)\n"
      ]
    },
    {
      "cell_type": "code",
      "execution_count": null,
      "metadata": {
        "colab": {
          "base_uri": "https://localhost:8080/",
          "height": 472
        },
        "id": "fh2pHHtMOQim",
        "outputId": "f9078bde-6d76-44e0-b8f2-e5605c1f7fdf"
      },
      "outputs": [
        {
          "data": {
            "image/png": "[encoded data removed]",
            "text/plain": [
              "<Figure size 640x480 with 1 Axes>"
            ]
          },
          "metadata": {},
          "output_type": "display_data"
        }
      ],
      "source": [
        "from sklearn.cluster import KMeans\n",
        "wcss = []\n",
        "K_range = range(5, 30)\n",
        "for k in K_range:\n",
        "    kmeans = KMeans(n_clusters=k, random_state=42, n_init=10)\n",
        "    kmeans.fit(x_train)\n",
        "    wcss.append(kmeans.inertia_)\n",
        "plt.plot(K_range, wcss, marker=\"o\")\n",
        "plt.xlabel(\"Number of Clusters (k)\")\n",
        "plt.ylabel(\"WCSS (Within-Cluster Sum of Squares)\")\n",
        "plt.title(\"Elbow Method to Determine Optimal k\")\n",
        "plt.show()"
      ]
    },
    {
      "cell_type": "code",
      "execution_count": null,
      "metadata": {
        "colab": {
          "base_uri": "https://localhost:8080/"
        },
        "id": "UJh5MGskO5vy",
        "outputId": "85103c2d-e350-4534-b829-71f5241db039"
      },
      "outputs": [
        {
          "name": "stdout",
          "output_type": "stream",
          "text": [
            "[15 15 15 17 23  3  7  6 24 23 17  9 16  5 10  4 13 13 13  0  7 23 12  6\n",
            "  5 20  1  7  6  9  7 23  3 15 19  2 14  9  0  3 22 13 15 13  0  6 20  7\n",
            "  7 13 15  7 19  4 15 17  6  7  4  9  1 15 12 15 20  7  7 12 12 12 12 15\n",
            "  0 20 14 20 24  3 16 23  8 19 19 18 10 11 13  3 24 13  0 12  6  2 10 10\n",
            " 21 15  7  9 14 16  3  7  7 11 23  7 23 23  7  1 18 13 20  1  2 13  2  4\n",
            " 19 15  9 11  4 11 14  9  7 18 10  7 11 15  0 13 16 21 20  4 10 15 16 14\n",
            " 14 18 15  1 23 15 17 10 14 13  7 19  4 15  4  9  0 15  7 20  3  2 13  9\n",
            " 15 16  8  7  3  7 11  7 21  5  9 14 16 22  4 11 22 15  6  6 10 20 15 14\n",
            " 19]\n"
          ]
        }
      ],
      "source": [
        "optimal_k = 25\n",
        "kmeans = KMeans(n_clusters=optimal_k, random_state=42)\n",
        "kmeans.fit(x_train)\n",
        "x_predict= kmeans.fit_predict(x_test)\n",
        "print(x_predict)\n",
        "all_data_tfidf = vectorizer.transform(df['Resume'])\n",
        "df['cluster'] = kmeans.predict(all_data_tfidf)"
      ]
    },
    {
      "cell_type": "code",
      "execution_count": null,
      "metadata": {
        "colab": {
          "base_uri": "https://localhost:8080/"
        },
        "id": "c6Xr0zuoPaRm",
        "outputId": "f2329839-883e-4c0f-9583-5c9b31e587c6"
      },
      "outputs": [
        {
          "name": "stdout",
          "output_type": "stream",
          "text": [
            "Accuracy: 0.08808290155440414\n",
            "              precision    recall  f1-score   support\n",
            "\n",
            "           0       0.00      0.00      0.00         3\n",
            "           1       0.00      0.00      0.00         6\n",
            "           2       0.00      0.00      0.00         5\n",
            "           3       0.00      0.00      0.00         7\n",
            "           4       0.00      0.00      0.00         4\n",
            "           5       0.00      0.00      0.00         9\n",
            "           6       0.00      0.00      0.00         5\n",
            "           7       0.00      0.00      0.00         8\n",
            "           8       0.00      0.00      0.00        14\n",
            "           9       0.00      0.00      0.00         5\n",
            "          10       0.00      0.00      0.00         7\n",
            "          11       0.00      0.00      0.00         6\n",
            "          12       0.00      0.00      0.00        12\n",
            "          13       0.00      0.00      0.00         4\n",
            "          14       0.00      0.00      0.00         7\n",
            "          15       0.52      0.73      0.61        15\n",
            "          16       0.86      0.75      0.80         8\n",
            "          17       0.00      0.00      0.00         3\n",
            "          18       0.00      0.00      0.00        12\n",
            "          19       0.00      0.00      0.00         7\n",
            "          20       0.00      0.00      0.00        10\n",
            "          21       0.00      0.00      0.00         7\n",
            "          22       0.00      0.00      0.00         8\n",
            "          23       0.00      0.00      0.00        16\n",
            "          24       0.00      0.00      0.00         5\n",
            "\n",
            "    accuracy                           0.09       193\n",
            "   macro avg       0.06      0.06      0.06       193\n",
            "weighted avg       0.08      0.09      0.08       193\n",
            "\n"
          ]
        }
      ],
      "source": [
        "y_pred = kmeans.predict(x_test)\n",
        "from sklearn.metrics import accuracy_score, classification_report\n",
        "accuracy = accuracy_score(y_test, y_pred)\n",
        "print(\"Accuracy:\", accuracy)\n",
        "print(classification_report(y_test, y_pred))"
      ]
    },
    {
      "cell_type": "code",
      "execution_count": null,
      "metadata": {
        "colab": {
          "base_uri": "https://localhost:8080/"
        },
        "id": "LekKhpIGTGUT",
        "outputId": "a3bcbc3a-2a87-40e9-a528-7383b1a3930e"
      },
      "outputs": [
        {
          "name": "stdout",
          "output_type": "stream",
          "text": [
            "Accuracy: 0.9844559585492227\n",
            "              precision    recall  f1-score   support\n",
            "\n",
            "           0       1.00      1.00      1.00         3\n",
            "           1       1.00      1.00      1.00         6\n",
            "           2       1.00      1.00      1.00         5\n",
            "           3       1.00      1.00      1.00         7\n",
            "           4       1.00      1.00      1.00         4\n",
            "           5       1.00      1.00      1.00         9\n",
            "           6       1.00      0.60      0.75         5\n",
            "           7       1.00      1.00      1.00         8\n",
            "           8       1.00      0.93      0.96        14\n",
            "           9       1.00      1.00      1.00         5\n",
            "          10       1.00      1.00      1.00         7\n",
            "          11       1.00      1.00      1.00         6\n",
            "          12       1.00      1.00      1.00        12\n",
            "          13       1.00      1.00      1.00         4\n",
            "          14       1.00      1.00      1.00         7\n",
            "          15       1.00      1.00      1.00        15\n",
            "          16       1.00      1.00      1.00         8\n",
            "          17       1.00      1.00      1.00         3\n",
            "          18       1.00      1.00      1.00        12\n",
            "          19       0.88      1.00      0.93         7\n",
            "          20       1.00      1.00      1.00        10\n",
            "          21       0.78      1.00      0.88         7\n",
            "          22       1.00      1.00      1.00         8\n",
            "          23       1.00      1.00      1.00        16\n",
            "          24       1.00      1.00      1.00         5\n",
            "\n",
            "    accuracy                           0.98       193\n",
            "   macro avg       0.99      0.98      0.98       193\n",
            "weighted avg       0.99      0.98      0.98       193\n",
            "\n"
          ]
        }
      ],
      "source": [
        "from sklearn.neighbors import KNeighborsClassifier\n",
        "knn =KNeighborsClassifier(n_neighbors=5)\n",
        "knn.fit(x_train, y_train)\n",
        "y_pred1 = knn.predict(x_test)\n",
        "from sklearn.metrics import accuracy_score, classification_report\n",
        "accuracy = accuracy_score(y_test, y_pred1)\n",
        "print(\"Accuracy:\", accuracy)\n",
        "print(classification_report(y_test, y_pred1))"
      ]
    },
    {
      "cell_type": "code",
      "execution_count": null,
      "metadata": {
        "colab": {
          "base_uri": "https://localhost:8080/"
        },
        "id": "QKaxLnSUVJoO",
        "outputId": "e3a1b8ea-c1c4-45f5-f273-b6edc294ea32"
      },
      "outputs": [
        {
          "name": "stdout",
          "output_type": "stream",
          "text": [
            "Accuracy: 0.9948186528497409\n",
            "              precision    recall  f1-score   support\n",
            "\n",
            "           0       1.00      1.00      1.00         3\n",
            "           1       1.00      1.00      1.00         6\n",
            "           2       1.00      1.00      1.00         5\n",
            "           3       1.00      1.00      1.00         7\n",
            "           4       1.00      1.00      1.00         4\n",
            "           5       1.00      1.00      1.00         9\n",
            "           6       1.00      1.00      1.00         5\n",
            "           7       1.00      1.00      1.00         8\n",
            "           8       1.00      0.93      0.96        14\n",
            "           9       1.00      1.00      1.00         5\n",
            "          10       1.00      1.00      1.00         7\n",
            "          11       1.00      1.00      1.00         6\n",
            "          12       1.00      1.00      1.00        12\n",
            "          13       1.00      1.00      1.00         4\n",
            "          14       1.00      1.00      1.00         7\n",
            "          15       1.00      1.00      1.00        15\n",
            "          16       1.00      1.00      1.00         8\n",
            "          17       1.00      1.00      1.00         3\n",
            "          18       1.00      1.00      1.00        12\n",
            "          19       0.88      1.00      0.93         7\n",
            "          20       1.00      1.00      1.00        10\n",
            "          21       1.00      1.00      1.00         7\n",
            "          22       1.00      1.00      1.00         8\n",
            "          23       1.00      1.00      1.00        16\n",
            "          24       1.00      1.00      1.00         5\n",
            "\n",
            "    accuracy                           0.99       193\n",
            "   macro avg       0.99      1.00      1.00       193\n",
            "weighted avg       1.00      0.99      0.99       193\n",
            "\n"
          ]
        }
      ],
      "source": [
        "\n",
        "from sklearn.linear_model import LogisticRegression\n",
        "lr = LogisticRegression()\n",
        "lr.fit(x_train, y_train)\n",
        "y_pred2 = lr.predict(x_test)\n",
        "from sklearn.metrics import accuracy_score, classification_report\n",
        "accuracy = accuracy_score(y_test, y_pred2)\n",
        "print(\"Accuracy:\", accuracy)\n",
        "print(classification_report(y_test, y_pred2))"
      ]
    },
    {
      "cell_type": "code",
      "execution_count": null,
      "metadata": {
        "colab": {
          "base_uri": "https://localhost:8080/"
        },
        "id": "ATbFBL6W0jTP",
        "outputId": "5879ee03-f7fe-4b19-f0f0-6ddac99fd0ab"
      },
      "outputs": [
        {
          "name": "stdout",
          "output_type": "stream",
          "text": [
            "Enter the resume text: Areas of Interest Deep Learning, Control System Design, Programming in-Python, Electric Machinery, Web Development, Analytics Technical Activities q Hindustan Aeronautics Limited, Bangalore - For 4 weeks under the guidance of Mr. Satish, Senior Engineer in the hangar of Mirage 2000 fighter aircraft Technical Skills Programming Matlab, Python and Java, LabView, Python WebFrameWork-Django, Flask, LTSPICE-intermediate Languages and and MIPOWER-intermediate, Github (GitBash), Jupyter Notebook, Xampp, MySQL-Basics, Python Software Packages Interpreters-Anaconda, Python2, Python3, Pycharm, Java IDE-Eclipse Operating Systems Windows, Ubuntu, Debian-Kali Linux Education Details January 2019 B.Tech. Electrical and Electronics Engineering Manipal Institute of Technology January 2015 DEEKSHA CENTER January 2013 Little Flower Public School August 2000 Manipal Academy of Higher DATA SCIENCE DATA SCIENCE AND ELECTRICAL ENTHUSIAST Skill Details Data Analysis- Exprience - Less than 1 year months excel- Exprience - Less than 1 year months Machine Learning- Exprience - Less than 1 year months mathematics- Exprience - Less than 1 year months Python- Exprience - Less than 1 year months Matlab- Exprience - Less than 1 year months Electrical Engineering- Exprience - Less than 1 year months Sql- Exprience - Less than 1 year monthsCompany Details company - THEMATHCOMPANY description - I am currently working with a Casino based operator(name not to be disclosed) in Macau.I need to segment the customers who visit their property based on the value the patrons bring into the company.Basically prove that the segmentation can be done in much better way than the current system which they have with proper numbers to back it up.Henceforth they can implement target marketing strategy to attract their customers who add value to the business.\n",
            "\n",
            "Predicted Category: Data Science\n",
            "Weightage Score (0-10): 5.61\n"
          ]
        }
      ],
      "source": [
        "from sklearn.preprocessing import MinMaxScaler\n",
        "import numpy as np\n",
        "def process_user_resume(text):\n",
        "    text = text_clearing(text)\n",
        "    text_tfidf = vectorizer.transform([text])\n",
        "    return text_tfidf\n",
        "\n",
        "\n",
        "user_resume = input(\"Enter the resume text: \")\n",
        "\n",
        "processed_resume = process_user_resume(user_resume)\n",
        "predicted_category = lr.predict(processed_resume)[0]\n",
        "\n",
        "confidence_score = np.max(lr.predict_proba(processed_resume))\n",
        "\n",
        "final_score = confidence_score * 10\n",
        "category_name = label_encoder.inverse_transform([predicted_category])[0]\n",
        "\n",
        "\n",
        "print(f\"\\nPredicted Category: {category_name}\")\n",
        "print(f\"Weightage Score (0-10): {final_score:.2f}\")\n"
      ]
    },
    {
      "cell_type": "code",
      "execution_count": null,
      "metadata": {
        "id": "dIOq6YDT02wx"
      },
      "outputs": [],
      "source": []
    }
  ],
  "metadata": {
    "colab": {
      "provenance": []
    },
    "kernelspec": {
      "display_name": "Python 3",
      "name": "python3"
    },
    "language_info": {
      "codemirror_mode": {
        "name": "ipython",
        "version": 3
      },
      "file_extension": ".py",
      "mimetype": "text/x-python",
      "name": "python",
      "nbconvert_exporter": "python",
      "pygments_lexer": "ipython3",
      "version": "3.12.5"
    }
  },
  "nbformat": 4,
  "nbformat_minor": 0
}
